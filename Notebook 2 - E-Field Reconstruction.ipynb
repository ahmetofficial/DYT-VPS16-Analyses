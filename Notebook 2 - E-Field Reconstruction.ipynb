{
 "cells": [
  {
   "cell_type": "code",
   "execution_count": 231,
   "id": "e7619993-749e-4a38-b9dd-948ff2f575f4",
   "metadata": {},
   "outputs": [],
   "source": [
    "import nibabel as nib\n",
    "import pyvista as pv\n",
    "import numpy as np\n",
    "import pandas as pd\n",
    "import seaborn as sns\n",
    "import matplotlib.pyplot as plt\n",
    "\n",
    "import utils_plotting, utils_VAT\n",
    "\n",
    "import warnings\n",
    "warnings.filterwarnings('ignore')\n",
    "\n",
    "# load basal ganglia nuclei meshes\n",
    "GP_meshes       = utils_VAT.load_GP_meshes()\n",
    "STN_meshes      = utils_VAT.load_STN_meshes()\n",
    "\n",
    "# color codes for basal ganglia nuclei\n",
    "colors          = {}\n",
    "colors[\"stn\"]   = \"sandybrown\"\n",
    "colors[\"gpi\"]   = \"lightgreen\"\n",
    "colors[\"gpe\"]   = \"turquoise\"\n",
    "\n",
    "clinical_data   = pd.read_csv(\"clinical_data.csv\")"
   ]
  },
  {
   "cell_type": "markdown",
   "id": "34a1e623-fd9f-494f-a402-fa4fd3b01454",
   "metadata": {},
   "source": [
    "# 1. Import E-Fields of Patients"
   ]
  },
  {
   "cell_type": "code",
   "execution_count": 234,
   "id": "71528994-8112-470d-947f-dbfa517b53c6",
   "metadata": {},
   "outputs": [
    {
     "name": "stdout",
     "output_type": "stream",
     "text": [
      "Patient P10 - right hemisphere e-field was not found in the directory...\n",
      "Patient P10 - left hemisphere e-field was not found in the directory...\n",
      "Patient P14 - left hemisphere e-field was not found in the directory...\n",
      "Patient P19 - right hemisphere e-field was not found in the directory...\n",
      "Patient P19 - left hemisphere e-field was not found in the directory...\n",
      "Patient P21 - right hemisphere e-field was not found in the directory...\n",
      "Patient P21 - left hemisphere e-field was not found in the directory...\n",
      "Patient P25 - right hemisphere e-field was not found in the directory...\n",
      "Patient P25 - left hemisphere e-field was not found in the directory...\n"
     ]
    }
   ],
   "source": [
    "data_efield = pd.DataFrame(columns=[\"patient\", \"hemisphere\", \"coordinates\", \"vector_magnitude\"])\n",
    "\n",
    "for p_id in range(25):\n",
    "    \n",
    "    patient = \"P\"+str(p_id+1)\n",
    "    \n",
    "    for hemisphere in [\"right\", \"left\"]:\n",
    "        try:\n",
    "            VAT, efield = utils_VAT.load_efields_for_patients(path=\"data_VAT/\"+patient+\"/vat_efield_\" + hemisphere + \".nii\")\n",
    "            row         = {\"patient\": patient, \"hemisphere\": hemisphere, \n",
    "                           \"coordinates\": efield[\"coordinates\"], \n",
    "                           \"vector_magnitude\": efield[\"vector_magnitude\"]}\n",
    "            \n",
    "            data_efield.loc[len(data_efield)] = row\n",
    "        except:\n",
    "            print(\"Patient \" + patient + \" - \" + hemisphere + \" hemisphere e-field was not found in the directory...\")"
   ]
  },
  {
   "cell_type": "markdown",
   "id": "325228ed-d6b7-4380-a082-aca071824ca1",
   "metadata": {},
   "source": [
    "# 2. Measure Voxel-Wise E-Fields"
   ]
  },
  {
   "cell_type": "code",
   "execution_count": 236,
   "id": "4bae5af0-28fb-4662-bc2d-66a75279d3a8",
   "metadata": {},
   "outputs": [],
   "source": [
    "# threshold for voxels that were at least covered by 30% of E-fields across patients with a vector magnitude above 150 V/m\n",
    "N_patient                                = data_efield.patient.nunique()\n",
    "threshold                                = 30 # %\n",
    "voxel_size                               = 0.25\n",
    "\n",
    "# filter non-zero e-field vector magnitudes, in the previous step we set all e-field points having vector\n",
    "# magnitude less than 150 V/m to 0, in this step, we filter them out\n",
    "data_efield_filtered                     = data_efield.explode([\"coordinates\", \"vector_magnitude\"])\n",
    "data_efield_filtered                     = data_efield_filtered[data_efield_filtered[\"vector_magnitude\"] > 0]\n",
    "\n",
    "# expand coordinates into separate columns\n",
    "data_efield_filtered[[\"x\", \"y\", \"z\"]]    = pd.DataFrame(data_efield_filtered[\"coordinates\"].tolist(), index=data_efield_filtered.index)\n",
    "data_efield_filtered                     = data_efield_filtered[[\"patient\", \"hemisphere\", \"x\", \"y\", \"z\", \"vector_magnitude\"]] \n",
    "\n",
    "# we assign each e-field position to a voxel\n",
    "data_efield_filtered                     = utils_VAT.assign_efields_to_voxels_new(data_efield_filtered, voxel_size=voxel_size)\n",
    "# we take the mean of all the e-fields belonging to the same voxel by taking the mean for each patient and hemisphere separately\n",
    "data_aggregated_efield                   = utils_VAT.aggregate_voxels(data_efield_filtered)\n",
    "\n",
    "# group by coordinates and hemisphere, and count how many patients acceptable e-field in the selected voxel\n",
    "valid_voxels                             = data_aggregated_efield.groupby(['x_voxel', 'y_voxel', 'z_voxel', 'hemisphere'])['patient'].nunique().reset_index()\n",
    "# calculate the percentage of patients having an e-field of more than 150 V/m for each voxel\n",
    "valid_voxels['patient_coverage']         = (valid_voxels['patient'] / N_patient) * 100\n",
    "valid_voxels                             = valid_voxels[valid_voxels.patient_coverage>=threshold]"
   ]
  },
  {
   "cell_type": "markdown",
   "id": "7d3f50b3-eb2c-41bd-86cb-c0be965ff7fc",
   "metadata": {},
   "source": [
    "# 3. Measure Voxel-Wise Correlation Between BFMDRS Improvement and E-Field Magnitude "
   ]
  },
  {
   "cell_type": "code",
   "execution_count": 237,
   "id": "82e4b64d-b47d-40f9-8786-ff9e15937a8f",
   "metadata": {},
   "outputs": [],
   "source": [
    "filtered_EFields = data_aggregated_efield.merge(valid_voxels[['x_voxel', 'y_voxel', 'z_voxel', 'hemisphere']], \n",
    "                                           on=['x_voxel', 'y_voxel', 'z_voxel', 'hemisphere'], how='inner')\n",
    "filtered_EFields = filtered_EFields.merge(clinical_data, on='patient', how='left')\n",
    "data_corr        = utils_VAT.calculate_spearman_correlation(filtered_EFields)"
   ]
  },
  {
   "cell_type": "markdown",
   "id": "627b8025-56cf-4918-a2bb-57551ac9cd69",
   "metadata": {},
   "source": [
    "# 4. Plotting"
   ]
  },
  {
   "cell_type": "code",
   "execution_count": 238,
   "id": "c2837b8c-5077-4911-bc95-459d731aa468",
   "metadata": {},
   "outputs": [],
   "source": [
    "R_plane, L_plane = utils_VAT.extract_plane_correlation(data_corr, plane_x=\"x\", plane_y=\"y\", plane_value=np.nan)"
   ]
  },
  {
   "cell_type": "code",
   "execution_count": 239,
   "id": "8eb29792-27d1-403e-b154-68007f4dba74",
   "metadata": {},
   "outputs": [
    {
     "data": {
      "text/plain": [
       "<Figure size 640x480 with 0 Axes>"
      ]
     },
     "metadata": {},
     "output_type": "display_data"
    },
    {
     "data": {
      "image/png": "[encoded data removed]",
      "text/plain": [
       "<Figure size 728.346x826.772 with 2 Axes>"
      ]
     },
     "metadata": {},
     "output_type": "display_data"
    }
   ],
   "source": [
    "# Plotting as a heatmap\n",
    "plt  = utils_plotting.get_figure_template()\n",
    "ax_L = plt.subplot2grid((75, 70), (0, 0) , colspan=30, rowspan=30)\n",
    "ax_R = plt.subplot2grid((75, 70), (0, 40), colspan=30, rowspan=30)\n",
    "\n",
    "ax_L = sns.heatmap(L_plane, cmap='coolwarm', annot=False, fmt=\".2f\", annot_kws={'size': 5}, cbar=False, vmin=-0.5, vmax=0.5, ax=ax_L)\n",
    "ax_L.set_title(\"Left Hemisphere\", fontsize=7)\n",
    "utils_plotting.set_axis(ax_L)\n",
    "\n",
    "ax_R = sns.heatmap(R_plane, cmap='coolwarm', annot=False, fmt=\".2f\", annot_kws={'size': 5}, cbar=False, vmin=-0.5, vmax=0.5, ax=ax_R)\n",
    "ax_R.set_title(\"Right Hemisphere\", fontsize=7)\n",
    "utils_plotting.set_axis(ax_R)\n",
    "\n",
    "#plt.savefig('heatmap.svg', dpi=300)"
   ]
  },
  {
   "cell_type": "code",
   "execution_count": 259,
   "id": "91e28e0c-8859-4bdc-a229-2c6afd7ea673",
   "metadata": {},
   "outputs": [
    {
     "data": {
      "text/plain": [
       "0.5549450549450549"
      ]
     },
     "execution_count": 259,
     "metadata": {},
     "output_type": "execute_result"
    }
   ],
   "source": [
    "data_corr[(data_corr.correlation>=0) & (data_corr.pvalue<=0.05)].correlation.min()"
   ]
  },
  {
   "cell_type": "code",
   "execution_count": 263,
   "id": "47aa4325-6a5d-46b2-9b48-0cc7b493a83d",
   "metadata": {},
   "outputs": [
    {
     "data": {
      "text/plain": [
       "-0.5604395604395606"
      ]
     },
     "execution_count": 263,
     "metadata": {},
     "output_type": "execute_result"
    }
   ],
   "source": [
    "data_corr[(data_corr.correlation<0) & (data_corr.pvalue<=0.05)].correlation.max()"
   ]
  },
  {
   "cell_type": "code",
   "execution_count": null,
   "id": "50d80bc9-8a14-4c7b-bdde-ade6090b024e",
   "metadata": {},
   "outputs": [],
   "source": []
  }
 ],
 "metadata": {
  "kernelspec": {
   "display_name": "Python 3 (ipykernel)",
   "language": "python",
   "name": "python3"
  },
  "language_info": {
   "codemirror_mode": {
    "name": "ipython",
    "version": 3
   },
   "file_extension": ".py",
   "mimetype": "text/x-python",
   "name": "python",
   "nbconvert_exporter": "python",
   "pygments_lexer": "ipython3",
   "version": "3.9.19"
  }
 },
 "nbformat": 4,
 "nbformat_minor": 5
}
