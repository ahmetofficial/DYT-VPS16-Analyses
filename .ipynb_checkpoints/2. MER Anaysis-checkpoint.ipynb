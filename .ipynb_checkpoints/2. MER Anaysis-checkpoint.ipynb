{
 "cells": [
  {
   "cell_type": "code",
   "execution_count": 1,
   "id": "19b6cc4b-7ecc-4a60-9991-d64d83a03bf7",
   "metadata": {},
   "outputs": [],
   "source": [
    "import pandas as pd\n",
    "import numpy as np\n",
    "import math\n",
    "from os.path import exists\n",
    "import seaborn as sns\n",
    "import matplotlib.pyplot as plt\n",
    "import matplotlib.patches as mpatches\n",
    "from decimal import Decimal\n",
    "from matplotlib.colors import BoundaryNorm\n",
    "from matplotlib.patches import Rectangle\n",
    "\n",
    "from scipy import stats\n",
    "import statsmodels.stats.multitest\n",
    "from decimal import Decimal\n",
    "import collections\n",
    "\n",
    "from sklearn import preprocessing\n",
    "from sklearn.preprocessing import StandardScaler\n",
    "import scikit_posthocs as sp\n",
    "import scipy\n",
    "\n",
    "import pickle \n",
    "from matplotlib import rcParams\n",
    "\n",
    "import warnings\n",
    "warnings.filterwarnings('ignore')\n",
    "\n",
    "import utils_statistics, utils_misc, utils_plotting"
   ]
  },
  {
   "cell_type": "code",
   "execution_count": 2,
   "id": "8a5b06a6-bf9d-4ba0-9818-62acd2847dad",
   "metadata": {},
   "outputs": [],
   "source": [
    "data                     = pd.read_csv(\"data_MER/vps16_neurons.csv\")\n",
    "MNI_coordinates          = pd.read_csv('data_MER/MNI_coordinates.csv')\n",
    "#MNI_coordinates.drop(columns=[\"x\",\"y\",\"z\"], inplace=True)\n",
    "\n",
    "data  = pd.merge(data, MNI_coordinates, left_on=['patient','hemisphere','trajectory','depth'], right_on = ['patient','hemisphere','trajectory','depth'])\n",
    "data  = data[(data.gpi_in == True) | (data.gpe_in == True)]"
   ]
  },
  {
   "cell_type": "markdown",
   "id": "8ed01350-35f2-4008-86ee-85e8c1a52a3f",
   "metadata": {},
   "source": [
    "# 1. Data Loading"
   ]
  },
  {
   "cell_type": "code",
   "execution_count": 4,
   "id": "34c212b2-acb2-46d4-a8fb-101acd589e96",
   "metadata": {},
   "outputs": [],
   "source": [
    "# define feature types\n",
    "features             = ['firing_rate','firing_regularity','cv','lv','isi_mean','isi_std','isi_skewness','isi_rho','pause_index','pause_ratio','asymmetry_index',\n",
    "                        'oscillation_frequency_theta_band','oscillation_frequency_alpha_band','oscillation_frequency_beta_band','oscillation_frequency_gamma_band',\n",
    "                        'is_bursting','is_tonic','is_irregular','delta_band_oscillatory','theta_band_oscillatory',\n",
    "                        'alpha_band_oscillatory','beta_band_oscillatory','gamma_band_oscillatory','is_oscillatory']\n",
    "features_non_param   = ['firing_rate','firing_regularity','cv','lv','isi_mean','isi_std','isi_skewness','isi_rho','asymmetry_index',\n",
    "                        'oscillation_frequency_theta_band','oscillation_frequency_alpha_band','oscillation_frequency_beta_band','oscillation_frequency_gamma_band']\n",
    "features_binary      = ['is_bursting','is_tonic','is_irregular','delta_band_oscillatory','theta_band_oscillatory',\n",
    "                        'alpha_band_oscillatory','beta_band_oscillatory','gamma_band_oscillatory','is_oscillatory']\n",
    "\n",
    "# get neurons only belong to GPi or GPe\n",
    "data                 = utils_misc.transform_data(data)\n",
    "data_gpi             = data[data.gpi_in==True].reset_index(drop=True)\n",
    "data_gpe             = data[data.gpe_in==True].reset_index(drop=True)\n",
    "\n",
    "# define dataframes with paramteric and non-parametrics features\n",
    "data[\"structure\"]    = data.gpi_in\n",
    "data['structure']    = data['structure'].map({False: \"GPe\", True: \"GPi\"})\n",
    "data_np              = data[features_non_param]\n",
    "data_np['structure'] = data['structure']\n",
    "data_b               = data[features_binary]\n",
    "data_b['structure']  = data['structure']"
   ]
  },
  {
   "cell_type": "markdown",
   "id": "8ce0760c-b2d6-4e30-bd5c-3b28245f823c",
   "metadata": {},
   "source": [
    "# 2. Statistical Tests"
   ]
  },
  {
   "cell_type": "code",
   "execution_count": 6,
   "id": "fe9a93bd-7ee1-4232-956a-ff35ef28dccc",
   "metadata": {},
   "outputs": [
    {
     "name": "stdout",
     "output_type": "stream",
     "text": [
      "firing_rate\n",
      "          GPe       GPi\n",
      "GPe  1.000000  0.310109\n",
      "GPi  0.310109  1.000000\n",
      "firing_regularity\n",
      "          GPe       GPi\n",
      "GPe  1.000000  0.184118\n",
      "GPi  0.184118  1.000000\n",
      "cv\n",
      "          GPe       GPi\n",
      "GPe  1.000000  0.010678\n",
      "GPi  0.010678  1.000000\n",
      "lv\n",
      "          GPe       GPi\n",
      "GPe  1.000000  0.292475\n",
      "GPi  0.292475  1.000000\n",
      "isi_mean\n",
      "          GPe       GPi\n",
      "GPe  1.000000  0.310109\n",
      "GPi  0.310109  1.000000\n",
      "isi_std\n",
      "        GPe     GPi\n",
      "GPe  1.0000  0.5506\n",
      "GPi  0.5506  1.0000\n",
      "isi_skewness\n",
      "          GPe       GPi\n",
      "GPe  1.000000  0.184118\n",
      "GPi  0.184118  1.000000\n",
      "isi_rho\n",
      "          GPe       GPi\n",
      "GPe  1.000000  0.200901\n",
      "GPi  0.200901  1.000000\n",
      "asymmetry_index\n",
      "          GPe       GPi\n",
      "GPe  1.000000  0.580545\n",
      "GPi  0.580545  1.000000\n",
      "oscillation_frequency_theta_band\n",
      "          GPe       GPi\n",
      "GPe  1.000000  0.818037\n",
      "GPi  0.818037  1.000000\n",
      "oscillation_frequency_alpha_band\n",
      "          GPe       GPi\n",
      "GPe  1.000000  0.968822\n",
      "GPi  0.968822  1.000000\n",
      "oscillation_frequency_beta_band\n",
      "          GPe       GPi\n",
      "GPe  1.000000  0.997733\n",
      "GPi  0.997733  1.000000\n",
      "oscillation_frequency_gamma_band\n",
      "          GPe       GPi\n",
      "GPe  1.000000  0.925796\n",
      "GPi  0.925796  1.000000\n"
     ]
    }
   ],
   "source": [
    "for feat in features_non_param:\n",
    "    print(feat)\n",
    "    print(sp.posthoc_dunn(a=data_np, val_col=feat, group_col=\"structure\", p_adjust=\"holm\"))"
   ]
  },
  {
   "cell_type": "code",
   "execution_count": 7,
   "id": "f892f27a-e7c8-4061-8dd7-6540cdad8bb8",
   "metadata": {},
   "outputs": [
    {
     "name": "stdout",
     "output_type": "stream",
     "text": [
      "is_bursting\n",
      "SignificanceResult(statistic=1.5555555555555556, pvalue=0.5262056772039327)\n",
      "is_tonic\n",
      "SignificanceResult(statistic=1.3620283018867925, pvalue=0.24278199354294697)\n",
      "is_irregular\n",
      "SignificanceResult(statistic=0.6873977086743044, pvalue=0.15815029396638294)\n",
      "delta_band_oscillatory\n",
      "SignificanceResult(statistic=1.9294117647058824, pvalue=0.22267308009996317)\n",
      "theta_band_oscillatory\n",
      "SignificanceResult(statistic=0.587013843111404, pvalue=0.14220026170214745)\n",
      "alpha_band_oscillatory\n",
      "SignificanceResult(statistic=0.7129629629629629, pvalue=0.46484778415400807)\n",
      "beta_band_oscillatory\n",
      "SignificanceResult(statistic=0.6489234449760766, pvalue=0.39515856272971905)\n",
      "gamma_band_oscillatory\n",
      "SignificanceResult(statistic=0.7538726333907056, pvalue=0.47943039701361284)\n",
      "is_oscillatory\n",
      "SignificanceResult(statistic=0.7461734693877551, pvalue=0.30576849530548833)\n"
     ]
    }
   ],
   "source": [
    "for feat in features_binary:\n",
    "    print(feat)\n",
    "    print(scipy.stats.fisher_exact(pd.crosstab(data[\"structure\"], data[feat]), alternative='two-sided'))"
   ]
  },
  {
   "cell_type": "markdown",
   "id": "97be3f25-63dd-4822-8baf-4b4a09656c6b",
   "metadata": {},
   "source": [
    "# 3. Save Patient Neurons "
   ]
  },
  {
   "cell_type": "code",
   "execution_count": 9,
   "id": "7d5764c8-861d-4fab-8bb7-8e0528eb0bc0",
   "metadata": {},
   "outputs": [],
   "source": [
    "data_pat8_gpi = data[(data.patient == \"patient8\") & (data.gpi_in == True)]\n",
    "data_pat8_gpi = data_pat8_gpi[[\"hemisphere\",\"spike_pattern\",\"x\",\"y\",\"z\"]]\n",
    "data_pat8_gpi.to_csv(\"data_MER/data_pat8_gpi.csv\", index=False)\n",
    "\n",
    "data_pat8_gpe = data[(data.patient == \"patient8\") & (data.gpe_in == True)]\n",
    "data_pat8_gpe = data_pat8_gpe[[\"hemisphere\",\"spike_pattern\",\"x\",\"y\",\"z\"]]\n",
    "data_pat8_gpe.to_csv(\"data_MER/data_pat8_gpe.csv\", index=False)\n",
    "\n",
    "data_pat9_gpi = data[(data.patient == \"patient9\") & (data.gpi_in == True)]\n",
    "data_pat9_gpi = data_pat9_gpi[[\"hemisphere\",\"spike_pattern\",\"x\",\"y\",\"z\"]]\n",
    "data_pat9_gpi.to_csv(\"data_MER/data_pat9_gpi.csv\", index=False)\n",
    "\n",
    "data_pat9_gpe = data[(data.patient == \"patient9\") & (data.gpe_in == True)]\n",
    "data_pat9_gpe = data_pat9_gpe[[\"hemisphere\",\"spike_pattern\",\"x\",\"y\",\"z\"]]\n",
    "data_pat9_gpe.to_csv(\"data_MER/data_pat9_gpe.csv\", index=False)"
   ]
  },
  {
   "cell_type": "code",
   "execution_count": 10,
   "id": "43cb13e2-adc2-411a-add9-ea02c81b3a4b",
   "metadata": {},
   "outputs": [],
   "source": [
    "def stats(data, feature):\n",
    "    med = np.round(data[feature].median(),2)\n",
    "    iqr = np.round(data[feature].quantile(0.75) - data[feature].quantile(0.25),2)\n",
    "    #print(feature + \" : \" + str(med) + \" ± \" + str(iqr))\n",
    "    print(str(med) + \" ± \" + str(iqr))\n",
    "    \n",
    "def stats_binary(data, feature):\n",
    "    prop = np.round(data[feature].sum()/len(data)*100,2)\n",
    "    print(feature + \" : \" + str(prop))"
   ]
  },
  {
   "cell_type": "code",
   "execution_count": 11,
   "id": "38dcf82e-9d84-4c2c-af86-5a589c42d56b",
   "metadata": {},
   "outputs": [
    {
     "name": "stdout",
     "output_type": "stream",
     "text": [
      "is_bursting : 3.45\n",
      "is_tonic : 36.78\n",
      "is_irregular : 59.77\n",
      "delta_band_oscillatory : 5.75\n",
      "theta_band_oscillatory : 21.26\n",
      "alpha_band_oscillatory : 15.52\n",
      "beta_band_oscillatory : 10.92\n",
      "gamma_band_oscillatory : 16.09\n",
      "is_oscillatory : 48.28\n"
     ]
    }
   ],
   "source": [
    "for feat in features_binary:\n",
    "    stats_binary(data_gpe, feat)"
   ]
  },
  {
   "cell_type": "markdown",
   "id": "5102db4e-84c7-4750-83fd-7d01c2d5c94c",
   "metadata": {},
   "source": [
    "# 4. Plotting"
   ]
  },
  {
   "cell_type": "code",
   "execution_count": 13,
   "id": "adaccb6b-3e1f-4f5b-833e-37ab868684db",
   "metadata": {},
   "outputs": [],
   "source": [
    "def plot_firing_pattern(dataset, group_name, label_size, axis):\n",
    "\n",
    "    firing_patterns = [\"tonic\",\"irregular\",\"bursting\"]\n",
    "    colors          = sns.color_palette('rocket')[2:5]\n",
    "        \n",
    "    firing_patterns_counts = [np.sum(dataset.spike_pattern == \"tonic\"), \n",
    "                              np.sum(dataset.spike_pattern == \"irregular\"),\n",
    "                              np.sum(dataset.spike_pattern == \"bursting\")]\n",
    "    \n",
    "    axis.pie(firing_patterns_counts, labels = firing_patterns, colors=colors, autopct='%.2f%%',  textprops={'fontsize': label_size})\n",
    "    axis.set_title(group_name, fontsize=label_size, fontweight=\"bold\")\n",
    "    return axis"
   ]
  },
  {
   "cell_type": "markdown",
   "id": "89af1b72-93f1-458b-9c1d-4f9d401d59ce",
   "metadata": {},
   "source": [
    "## 4.1 Firing Patterns"
   ]
  },
  {
   "cell_type": "code",
   "execution_count": 15,
   "id": "2cdcf5a8-8087-413e-8aa7-9e20de1fb500",
   "metadata": {},
   "outputs": [
    {
     "data": {
      "text/plain": [
       "<Figure size 640x480 with 0 Axes>"
      ]
     },
     "metadata": {},
     "output_type": "display_data"
    },
    {
     "data": {
      "image/png": "[encoded data removed]",
      "text/plain": [
       "<Figure size 728.346x826.772 with 2 Axes>"
      ]
     },
     "metadata": {},
     "output_type": "display_data"
    }
   ],
   "source": [
    "plt = utils_plotting.get_figure_template()\n",
    "ax1 = plt.subplot2grid((75, 40), (0, 0) , colspan=12, rowspan=12)\n",
    "ax2 = plt.subplot2grid((75, 40), (0, 15), colspan=12, rowspan=12)\n",
    "\n",
    "ax1 = plot_firing_pattern(dataset=data_gpi, group_name=\"GPi Neurons [\" + str(len(data_gpi)) + \"]\", label_size=6, axis=ax1)\n",
    "ax2 = plot_firing_pattern(dataset=data_gpe, group_name=\"GPe Neurons [\" + str(len(data_gpe)) + \"]\", label_size=6, axis=ax2)\n",
    "plt.savefig(\"figures/firing_patterns.svg\", format=\"svg\")"
   ]
  },
  {
   "cell_type": "markdown",
   "id": "1a97326d-04fc-4aba-bb2c-f95f93ac27e4",
   "metadata": {},
   "source": [
    "# 4.2 Oscillatory Pattern"
   ]
  },
  {
   "cell_type": "code",
   "execution_count": 18,
   "id": "dc083ab5-6b54-4589-af97-8545cdb722ae",
   "metadata": {},
   "outputs": [],
   "source": [
    "frequency_bands  = [\"delta\", \"theta\", \"alpha\", \"beta\", \"gamma\", \"none\"]\n",
    "oscillations     = []\n",
    "for group in [\"GPi\",\"GPe\"]:\n",
    "    oscillations.append(utils_misc.oscillatory_characteristics(data, group_variable=\"structure\", group_value=group)) \n",
    "oscillations     = np.array(oscillations)"
   ]
  },
  {
   "cell_type": "code",
   "execution_count": 30,
   "id": "a91bf916-9179-4ec9-9a81-98fbaa6323fa",
   "metadata": {},
   "outputs": [
    {
     "data": {
      "text/plain": [
       "<Figure size 640x480 with 0 Axes>"
      ]
     },
     "metadata": {},
     "output_type": "display_data"
    },
    {
     "data": {
      "image/png": "[encoded data removed]",
      "text/plain": [
       "<Figure size 728.346x826.772 with 2 Axes>"
      ]
     },
     "metadata": {},
     "output_type": "display_data"
    }
   ],
   "source": [
    "labelsize = 5\n",
    "\n",
    "plt = utils_plotting.get_figure_template()\n",
    "ax1 = plt.subplot2grid((75, 40), (0, 0) , colspan=25, rowspan=10)\n",
    "\n",
    "ax1 = sns.heatmap(oscillations, annot=True, fmt=\".1f\", ax=ax1, vmin=0, vmax=60, cmap=\"RdPu\", annot_kws={'size': labelsize})\n",
    "ax1.set_xticks(ticks=[0.5,1.5,2.5,3.5,4.5,5.5], labels=frequency_bands, size=labelsize+2, fontweight=\"bold\")\n",
    "ax1.set_yticks(ticks=[0.5,1.5], labels=[\"GPi\",\"GPe\"], size=labelsize, fontweight=\"bold\")\n",
    "ax1.figure.axes[-1].yaxis.label.set_size(labelsize)\n",
    "ax1.set_title(\"Neural Oscillations\", size=labelsize, fontweight=\"bold\", pad=2)\n",
    "ax1.set_xlabel(\"frequency bands\", size=labelsize, fontweight=\"bold\", labelpad=2)\n",
    "ax1.set_ylabel(\"\", size=labelsize, fontweight=\"bold\", labelpad=2)\n",
    "\n",
    "cbar = ax1.collections[0].colorbar\n",
    "cbar.ax.tick_params(labelsize=labelsize)\n",
    "cbar.set_label('Percentage %', labelpad=labelsize, fontweight=\"bold\")\n",
    "plt.savefig(\"figures/oscillations.svg\", format=\"svg\")"
   ]
  },
  {
   "cell_type": "markdown",
   "id": "391d9b4c-0425-41f5-ba8a-88f7da1230ad",
   "metadata": {},
   "source": [
    "## 4.3 Box Plots"
   ]
  },
  {
   "cell_type": "code",
   "execution_count": 65,
   "id": "eb536c59-7428-43ee-8c9b-e36059329146",
   "metadata": {},
   "outputs": [],
   "source": [
    "def plot_boxplots(data, feat_x, feat_y, colors, order, axis):\n",
    "    axis = sns.boxplot(data = data, x=feat_x, y=feat_y, boxprops=dict(lw = 0.5, edgecolor = 'dimgrey'), fliersize = 0, \n",
    "                  palette = colors, medianprops = {'lw':1,'color':'white'}, whiskerprops = dict(alpha=1, lw = 0.5, color = 'dimgrey'),\n",
    "                  capprops = dict(alpha=1, lw = 0.5, color = 'dimgrey'), order = order, ax = axis, showfliers = False)\n",
    "    axis.tick_params(axis=u'both', which=u'both',length=0)\n",
    "    axis.tick_params(axis='both', which='major', labelsize=5)\n",
    "    axis.tick_params(axis='both', which='minor', labelsize=5)\n",
    "    axis.set_xlabel(\"\", fontsize=5)\n",
    "    axis.set_ylabel(\"\", fontsize=5)\n",
    "    axis.set_title(feat_x, fontsize=6, weight=\"bold\")\n",
    "    axis.spines[['right', 'left', 'top', 'bottom']].set_visible(False)\n",
    "    return axis"
   ]
  },
  {
   "cell_type": "code",
   "execution_count": 91,
   "id": "b6f8a20c-f079-4590-9626-ff2e9778a4ac",
   "metadata": {},
   "outputs": [
    {
     "data": {
      "text/plain": [
       "<Figure size 640x480 with 0 Axes>"
      ]
     },
     "metadata": {},
     "output_type": "display_data"
    },
    {
     "data": {
      "image/png": "[encoded data removed]",
      "text/plain": [
       "<Figure size 728.346x826.772 with 6 Axes>"
      ]
     },
     "metadata": {},
     "output_type": "display_data"
    }
   ],
   "source": [
    "plt = utils_plotting.get_figure_template()\n",
    "ax1 = plt.subplot2grid((75, 40), (0, 0) , colspan=20, rowspan=3)\n",
    "ax2 = plt.subplot2grid((75, 40), (0, 20) , colspan=20, rowspan=3)\n",
    "ax3 = plt.subplot2grid((75, 40), (7, 0) , colspan=20, rowspan=3)\n",
    "ax4 = plt.subplot2grid((75, 40), (7, 20) , colspan=20, rowspan=3)\n",
    "ax5 = plt.subplot2grid((75, 40), (14, 0) , colspan=20, rowspan=3)\n",
    "ax6 = plt.subplot2grid((75, 40), (14, 20) , colspan=20, rowspan=3)\n",
    "\n",
    "colors = [\"lightgreen\", \"turquoise\"] # Gpi and GPe\n",
    "ax1    = plot_boxplots(data, feat_x=\"firing_rate\", feat_y=\"structure\", colors=colors, order=[\"GPi\",\"GPe\"], axis=ax1)\n",
    "ax2    = plot_boxplots(data, feat_x=\"isi_mean\", feat_y=\"structure\", colors=colors, order=[\"GPi\",\"GPe\"], axis=ax2)\n",
    "ax3    = plot_boxplots(data, feat_x=\"firing_regularity\", feat_y=\"structure\", colors=colors, order=[\"GPi\",\"GPe\"], axis=ax3)\n",
    "ax4    = plot_boxplots(data, feat_x=\"cv\", feat_y=\"structure\", colors=colors, order=[\"GPi\",\"GPe\"], axis=ax4)\n",
    "ax5    = plot_boxplots(data, feat_x=\"lv\", feat_y=\"structure\", colors=colors, order=[\"GPi\",\"GPe\"], axis=ax5)\n",
    "ax6    = plot_boxplots(data, feat_x=\"asymmetry_index\", feat_y=\"structure\", colors=colors, order=[\"GPi\",\"GPe\"], axis=ax6)\n",
    "\n",
    "plt.savefig(\"figures/statistical_comparison.svg\", format=\"svg\")"
   ]
  },
  {
   "cell_type": "code",
   "execution_count": null,
   "id": "a162f1f9-a3f9-470c-950c-969acd44399b",
   "metadata": {},
   "outputs": [],
   "source": []
  }
 ],
 "metadata": {
  "kernelspec": {
   "display_name": "Python 3 (ipykernel)",
   "language": "python",
   "name": "python3"
  },
  "language_info": {
   "codemirror_mode": {
    "name": "ipython",
    "version": 3
   },
   "file_extension": ".py",
   "mimetype": "text/x-python",
   "name": "python",
   "nbconvert_exporter": "python",
   "pygments_lexer": "ipython3",
   "version": "3.9.19"
  }
 },
 "nbformat": 4,
 "nbformat_minor": 5
}
